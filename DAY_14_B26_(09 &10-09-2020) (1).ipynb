{
 "cells": [
  {
   "cell_type": "code",
   "execution_count": null,
   "metadata": {},
   "outputs": [],
   "source": [
    "09-09-2020"
   ]
  },
  {
   "cell_type": "code",
   "execution_count": null,
   "metadata": {},
   "outputs": [],
   "source": [
    "# INTRODUCTION TO PYTHON CLASSES:\n",
    "class \n",
    "methods\n",
    "attribute\n",
    "self \n",
    "object"
   ]
  },
  {
   "cell_type": "code",
   "execution_count": null,
   "metadata": {},
   "outputs": [],
   "source": [
    "*** class: It is a high level design/blueprint of a program\n",
    "    \n",
    "*** method: A function written inside a class is called as method\n",
    "    \n",
    "*** attribute: A variable written inside the class is called an attribute\n",
    "    \n",
    "*** self: A self is a temporary placeholder for an object...!\n",
    "\n",
    "*** object: It is an entry point to the class methods...!"
   ]
  },
  {
   "cell_type": "code",
   "execution_count": null,
   "metadata": {},
   "outputs": [],
   "source": [
    "* class: def--->use title case"
   ]
  },
  {
   "cell_type": "code",
   "execution_count": null,
   "metadata": {},
   "outputs": [],
   "source": [
    "req: create a Greet class...\n",
    "    create methods under this class\n",
    "    1. createname----> it needs to accept the name from the user\n",
    "    2. display name---->it needs to display the name\n",
    "    3. greet name----> greet the user."
   ]
  },
  {
   "cell_type": "code",
   "execution_count": 1,
   "metadata": {},
   "outputs": [],
   "source": [
    "class Greet:\n",
    "    \"\"\"creating Greet class with the below methods\"\"\"    # doc string\n",
    "    \n",
    "    def createname(self,name):   # method name\n",
    "        self.name = name  # attribute\n",
    "        \n",
    "    def displayname(self):   # method name\n",
    "        print(self.name)\n",
    "         \n",
    "    def greetname(self):   # method name\n",
    "        print(f\" Hello, {self.name}\")\n",
    "        "
   ]
  },
  {
   "cell_type": "code",
   "execution_count": null,
   "metadata": {},
   "outputs": [],
   "source": [
    "10-09-2020"
   ]
  },
  {
   "cell_type": "code",
   "execution_count": 2,
   "metadata": {},
   "outputs": [],
   "source": [
    "x=Greet() # assigning the object to the class name"
   ]
  },
  {
   "cell_type": "code",
   "execution_count": 3,
   "metadata": {},
   "outputs": [],
   "source": [
    "x.createname('jyotshna')"
   ]
  },
  {
   "cell_type": "code",
   "execution_count": 4,
   "metadata": {},
   "outputs": [
    {
     "name": "stdout",
     "output_type": "stream",
     "text": [
      "jyotshna\n"
     ]
    }
   ],
   "source": [
    "x.displayname()"
   ]
  },
  {
   "cell_type": "code",
   "execution_count": 5,
   "metadata": {},
   "outputs": [
    {
     "name": "stdout",
     "output_type": "stream",
     "text": [
      " Hello, jyotshna\n"
     ]
    }
   ],
   "source": [
    "x.greetname()"
   ]
  },
  {
   "cell_type": "code",
   "execution_count": null,
   "metadata": {},
   "outputs": [],
   "source": []
  },
  {
   "cell_type": "code",
   "execution_count": 6,
   "metadata": {},
   "outputs": [],
   "source": [
    "test=Greet()    # object assignment to the class...!\n",
    "                # self.name= name, test.name='vinay'"
   ]
  },
  {
   "cell_type": "code",
   "execution_count": 7,
   "metadata": {},
   "outputs": [],
   "source": [
    "test.createname('vinay')"
   ]
  },
  {
   "cell_type": "code",
   "execution_count": 8,
   "metadata": {},
   "outputs": [
    {
     "name": "stdout",
     "output_type": "stream",
     "text": [
      "vinay\n"
     ]
    }
   ],
   "source": [
    "test.displayname()"
   ]
  },
  {
   "cell_type": "code",
   "execution_count": 9,
   "metadata": {},
   "outputs": [
    {
     "name": "stdout",
     "output_type": "stream",
     "text": [
      " Hello, vinay\n"
     ]
    }
   ],
   "source": [
    "test.greetname()"
   ]
  },
  {
   "cell_type": "code",
   "execution_count": null,
   "metadata": {},
   "outputs": [],
   "source": []
  },
  {
   "cell_type": "code",
   "execution_count": null,
   "metadata": {},
   "outputs": [],
   "source": [
    "*** OOPS ====> Object Oriented Programming!!!"
   ]
  },
  {
   "cell_type": "code",
   "execution_count": null,
   "metadata": {},
   "outputs": [],
   "source": [
    "INTRODUCTION TO  CONSTRUCTORS:(special method/magical method)**"
   ]
  },
  {
   "cell_type": "code",
   "execution_count": null,
   "metadata": {},
   "outputs": [],
   "source": [
    "Overview: It is used to initiate the attributes/methods automatically"
   ]
  },
  {
   "cell_type": "code",
   "execution_count": null,
   "metadata": {},
   "outputs": [],
   "source": [
    "# how to define the constructor"
   ]
  },
  {
   "cell_type": "code",
   "execution_count": null,
   "metadata": {},
   "outputs": [],
   "source": [
    "def__init__(self,.....)     # double underscore...!"
   ]
  },
  {
   "cell_type": "raw",
   "metadata": {},
   "source": [
    "# req: create a Dog class and define the dog methods....!\n",
    "1. jump\n",
    "2. rollover\n",
    "3. eat\n",
    "4. sleep\n",
    "5. details"
   ]
  },
  {
   "cell_type": "code",
   "execution_count": 10,
   "metadata": {},
   "outputs": [],
   "source": [
    "class Dog:\n",
    "    \"\"\"creating a dog class and defining the methods\"\"\"\n",
    "    \n",
    "    def __init__(self,name,age):\n",
    "        self.name = name\n",
    "        self.age = age\n",
    "        \n",
    "    def jump(self):\n",
    "        print(f\"{self.name} is jumping\")\n",
    "        \n",
    "    def rollover(self):\n",
    "        print(f\"{self.name} is now rolling over\")\n",
    "        \n",
    "    def eat(self):\n",
    "        print(f\"{self.name} is eating\")\n",
    "        \n",
    "    def sleep(self):\n",
    "        print(f\"{self.name} is now sleeping\")\n",
    "        \n",
    "    def details(self):\n",
    "        print(f\" the dog name is {self.name}\")\n",
    "        print(f\" the dog age is {self.name}\")\n",
    "    "
   ]
  },
  {
   "cell_type": "code",
   "execution_count": null,
   "metadata": {},
   "outputs": [],
   "source": [
    "# during the time of object assignment only we can give the arguments."
   ]
  },
  {
   "cell_type": "code",
   "execution_count": 11,
   "metadata": {},
   "outputs": [],
   "source": [
    "a = Dog('rex','2')   # object assignment....passing the args"
   ]
  },
  {
   "cell_type": "code",
   "execution_count": 12,
   "metadata": {},
   "outputs": [
    {
     "name": "stdout",
     "output_type": "stream",
     "text": [
      "rex is jumping\n"
     ]
    }
   ],
   "source": [
    "a.jump()"
   ]
  },
  {
   "cell_type": "code",
   "execution_count": 13,
   "metadata": {},
   "outputs": [
    {
     "name": "stdout",
     "output_type": "stream",
     "text": [
      "rex is now rolling over\n"
     ]
    }
   ],
   "source": [
    "a.rollover()"
   ]
  },
  {
   "cell_type": "code",
   "execution_count": 14,
   "metadata": {},
   "outputs": [
    {
     "name": "stdout",
     "output_type": "stream",
     "text": [
      "rex is eating\n"
     ]
    }
   ],
   "source": [
    "a.eat()"
   ]
  },
  {
   "cell_type": "code",
   "execution_count": 15,
   "metadata": {},
   "outputs": [
    {
     "name": "stdout",
     "output_type": "stream",
     "text": [
      "rex is now sleeping\n"
     ]
    }
   ],
   "source": [
    "a.sleep()"
   ]
  },
  {
   "cell_type": "code",
   "execution_count": 16,
   "metadata": {},
   "outputs": [
    {
     "name": "stdout",
     "output_type": "stream",
     "text": [
      " the dog name is rex\n",
      " the dog age is rex\n"
     ]
    }
   ],
   "source": [
    "a.details()"
   ]
  },
  {
   "cell_type": "code",
   "execution_count": null,
   "metadata": {},
   "outputs": [],
   "source": []
  }
 ],
 "metadata": {
  "kernelspec": {
   "display_name": "Python 3",
   "language": "python",
   "name": "python3"
  },
  "language_info": {
   "codemirror_mode": {
    "name": "ipython",
    "version": 3
   },
   "file_extension": ".py",
   "mimetype": "text/x-python",
   "name": "python",
   "nbconvert_exporter": "python",
   "pygments_lexer": "ipython3",
   "version": "3.8.3"
  }
 },
 "nbformat": 4,
 "nbformat_minor": 4
}
