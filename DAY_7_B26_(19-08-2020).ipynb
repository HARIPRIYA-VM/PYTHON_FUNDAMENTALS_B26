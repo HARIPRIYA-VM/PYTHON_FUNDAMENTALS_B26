{
 "cells": [
  {
   "cell_type": "code",
   "execution_count": null,
   "metadata": {},
   "outputs": [],
   "source": [
    "# Continuation of list"
   ]
  },
  {
   "cell_type": "code",
   "execution_count": 8,
   "metadata": {},
   "outputs": [
    {
     "name": "stdout",
     "output_type": "stream",
     "text": [
      "['shabishta', 'kiran', 'paul', 'reema', 'zain']\n"
     ]
    }
   ],
   "source": [
    "students=['shabishta','kiran','paul', 'reema', 'zain']\n",
    "print(students)"
   ]
  },
  {
   "cell_type": "code",
   "execution_count": null,
   "metadata": {},
   "outputs": [],
   "source": [
    "# req: I want to print this list in a reverse order"
   ]
  },
  {
   "cell_type": "code",
   "execution_count": 9,
   "metadata": {},
   "outputs": [
    {
     "name": "stdout",
     "output_type": "stream",
     "text": [
      "['zain', 'reema', 'paul', 'kiran', 'shabishta']\n"
     ]
    }
   ],
   "source": [
    "students.reverse()\n",
    "print(students)"
   ]
  },
  {
   "cell_type": "code",
   "execution_count": null,
   "metadata": {},
   "outputs": [],
   "source": [
    "# INTRODUCTION to looping statements"
   ]
  },
  {
   "cell_type": "code",
   "execution_count": 10,
   "metadata": {},
   "outputs": [],
   "source": [
    "# for looping"
   ]
  },
  {
   "cell_type": "code",
   "execution_count": null,
   "metadata": {},
   "outputs": [],
   "source": [
    "# General syntax of a for loop"
   ]
  },
  {
   "cell_type": "code",
   "execution_count": null,
   "metadata": {},
   "outputs": [],
   "source": [
    "for tempvar in mainvar:\n",
    "    print(tempvar)"
   ]
  },
  {
   "cell_type": "code",
   "execution_count": 12,
   "metadata": {},
   "outputs": [
    {
     "name": "stdout",
     "output_type": "stream",
     "text": [
      "zain\n",
      "reema\n",
      "paul\n",
      "kiran\n",
      "shabishta\n"
     ]
    }
   ],
   "source": [
    "for x in students:\n",
    "    print(x)"
   ]
  },
  {
   "cell_type": "code",
   "execution_count": 13,
   "metadata": {},
   "outputs": [
    {
     "name": "stdout",
     "output_type": "stream",
     "text": [
      "['zain', 'reema', 'paul', 'kiran', 'shabishta']\n",
      "['zain', 'reema', 'paul', 'kiran', 'shabishta']\n",
      "['zain', 'reema', 'paul', 'kiran', 'shabishta']\n",
      "['zain', 'reema', 'paul', 'kiran', 'shabishta']\n",
      "['zain', 'reema', 'paul', 'kiran', 'shabishta']\n"
     ]
    }
   ],
   "source": [
    "for x in students:\n",
    "    print(students)"
   ]
  },
  {
   "cell_type": "code",
   "execution_count": 14,
   "metadata": {},
   "outputs": [
    {
     "name": "stdout",
     "output_type": "stream",
     "text": [
      "zain\n",
      "reema\n",
      "paul\n",
      "kiran\n",
      "shabishta\n"
     ]
    }
   ],
   "source": [
    "for a in students:\n",
    "    print(a)"
   ]
  },
  {
   "cell_type": "code",
   "execution_count": 15,
   "metadata": {},
   "outputs": [
    {
     "name": "stdout",
     "output_type": "stream",
     "text": [
      "['zain', 'reema', 'paul', 'kiran', 'shabishta']\n"
     ]
    }
   ],
   "source": [
    "print(students)"
   ]
  },
  {
   "cell_type": "code",
   "execution_count": 34,
   "metadata": {},
   "outputs": [
    {
     "name": "stdout",
     "output_type": "stream",
     "text": [
      "Keep up the good work, Zain!!!\n"
     ]
    }
   ],
   "source": [
    "print(f\"Keep up the good work, {students[0].title()}!!!\")"
   ]
  },
  {
   "cell_type": "code",
   "execution_count": 32,
   "metadata": {},
   "outputs": [
    {
     "name": "stdout",
     "output_type": "stream",
     "text": [
      "Keep up the good work, Zain!!!\n",
      "Keep up the good work, Reema!!!\n",
      "Keep up the good work, Paul!!!\n",
      "Keep up the good work, Kiran!!!\n",
      "Keep up the good work, Shabishta!!!\n"
     ]
    }
   ],
   "source": [
    "for h in students:\n",
    "    print(f\"Keep up the good work, {h.title()}!!!\")\n"
   ]
  },
  {
   "cell_type": "code",
   "execution_count": 33,
   "metadata": {},
   "outputs": [
    {
     "name": "stdout",
     "output_type": "stream",
     "text": [
      "Keep up the good work, ['zain', 'reema', 'paul', 'kiran', 'shabishta']!!!\n",
      "Keep up the good work, ['zain', 'reema', 'paul', 'kiran', 'shabishta']!!!\n",
      "Keep up the good work, ['zain', 'reema', 'paul', 'kiran', 'shabishta']!!!\n",
      "Keep up the good work, ['zain', 'reema', 'paul', 'kiran', 'shabishta']!!!\n",
      "Keep up the good work, ['zain', 'reema', 'paul', 'kiran', 'shabishta']!!!\n"
     ]
    }
   ],
   "source": [
    "for h in students:\n",
    "    print(f\"Keep up the good work, {students}!!!\")\n"
   ]
  },
  {
   "cell_type": "code",
   "execution_count": 35,
   "metadata": {},
   "outputs": [],
   "source": [
    "# enhancement of the code"
   ]
  },
  {
   "cell_type": "code",
   "execution_count": 49,
   "metadata": {},
   "outputs": [
    {
     "name": "stdout",
     "output_type": "stream",
     "text": [
      "Keep up the good work, Zain!!!\n",
      "I look forward to receive your practice file of today as well,zain.\n",
      "Keep up the good work, Reema!!!\n",
      "I look forward to receive your practice file of today as well,reema.\n",
      "Keep up the good work, Paul!!!\n",
      "I look forward to receive your practice file of today as well,paul.\n",
      "Keep up the good work, Kiran!!!\n",
      "I look forward to receive your practice file of today as well,kiran.\n",
      "Keep up the good work, Shabishta!!!\n",
      "I look forward to receive your practice file of today as well,shabishta.\n"
     ]
    }
   ],
   "source": [
    "for x in students:\n",
    "     print(f\"Keep up the good work, {x.title()}!!!\")\n",
    "     print(f\"I look forward to receive your practice file of today as well,{x}.\")\n",
    "     "
   ]
  },
  {
   "cell_type": "code",
   "execution_count": 48,
   "metadata": {},
   "outputs": [
    {
     "name": "stdout",
     "output_type": "stream",
     "text": [
      "Keep up the good work, Zain!!!\n",
      "I look forward to receive your practice file of today as well,Zain.\n",
      "\n",
      "Keep up the good work, Reema!!!\n",
      "I look forward to receive your practice file of today as well,Reema.\n",
      "\n",
      "Keep up the good work, Paul!!!\n",
      "I look forward to receive your practice file of today as well,Paul.\n",
      "\n",
      "Keep up the good work, Kiran!!!\n",
      "I look forward to receive your practice file of today as well,Kiran.\n",
      "\n",
      "Keep up the good work, Shabishta!!!\n",
      "I look forward to receive your practice file of today as well,Shabishta.\n",
      "\n"
     ]
    }
   ],
   "source": [
    "for x in students:\n",
    "     print(f\"Keep up the good work, {x.title()}!!!\")\n",
    "     print(f\"I look forward to receive your practice file of today as well,{x.title()}.\\n\")"
   ]
  },
  {
   "cell_type": "code",
   "execution_count": 47,
   "metadata": {},
   "outputs": [
    {
     "name": "stdout",
     "output_type": "stream",
     "text": [
      "Keep up the good work, Zain!!!\n",
      "I look forward to receive your practice file of today as well,Zain.\n",
      "\n",
      "Keep up the good work, Reema!!!\n",
      "I look forward to receive your practice file of today as well,Reema.\n",
      "\n",
      "Keep up the good work, Paul!!!\n",
      "I look forward to receive your practice file of today as well,Paul.\n",
      "\n",
      "Keep up the good work, Kiran!!!\n",
      "I look forward to receive your practice file of today as well,Kiran.\n",
      "\n",
      "Keep up the good work, Shabishta!!!\n",
      "I look forward to receive your practice file of today as well,Shabishta.\n",
      "\n",
      "Thank you all for choosing python sessions\n"
     ]
    }
   ],
   "source": [
    "for x in students:\n",
    "    print(f\"Keep up the good work, {x.title()}!!!\")        # in the loop\n",
    "    print(f\"I look forward to receive your practice file of today as well,{x.title()}.\\n\")      # in the loop\n",
    "print(\"Thank you all for choosing python sessions\")         # coming out of the loop"
   ]
  },
  {
   "cell_type": "code",
   "execution_count": null,
   "metadata": {},
   "outputs": [],
   "source": []
  }
 ],
 "metadata": {
  "kernelspec": {
   "display_name": "Python 3",
   "language": "python",
   "name": "python3"
  },
  "language_info": {
   "codemirror_mode": {
    "name": "ipython",
    "version": 3
   },
   "file_extension": ".py",
   "mimetype": "text/x-python",
   "name": "python",
   "nbconvert_exporter": "python",
   "pygments_lexer": "ipython3",
   "version": "3.8.3"
  }
 },
 "nbformat": 4,
 "nbformat_minor": 4
}
